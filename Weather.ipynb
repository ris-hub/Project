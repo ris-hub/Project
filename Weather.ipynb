{
 "cells": [
  {
   "cell_type": "code",
   "execution_count": 5,
   "id": "a33a5ee4",
   "metadata": {},
   "outputs": [
    {
     "name": "stdout",
     "output_type": "stream",
     "text": [
      "Requirement already satisfied: requests in c:\\python310\\lib\\site-packages (2.27.1)\n",
      "Requirement already satisfied: urllib3<1.27,>=1.21.1 in c:\\python310\\lib\\site-packages (from requests) (1.26.9)\n",
      "Requirement already satisfied: certifi>=2017.4.17 in c:\\python310\\lib\\site-packages (from requests) (2021.10.8)\n",
      "Requirement already satisfied: charset-normalizer~=2.0.0 in c:\\python310\\lib\\site-packages (from requests) (2.0.12)\n",
      "Requirement already satisfied: idna<4,>=2.5 in c:\\python310\\lib\\site-packages (from requests) (3.3)\n",
      "Note: you may need to restart the kernel to use updated packages.\n"
     ]
    }
   ],
   "source": [
    "pip install requests"
   ]
  },
  {
   "cell_type": "code",
   "execution_count": 9,
   "id": "587e9ddb",
   "metadata": {},
   "outputs": [
    {
     "name": "stdout",
     "output_type": "stream",
     "text": [
      "Enter the city name: del\n",
      "-------------------------------------------------------------\n",
      "Weather Stats for - DEL  || 30 Apr 2022 | 12:28:02 AM\n",
      "-------------------------------------------------------------\n",
      "Current temperature is: 11.75 deg C\n",
      "Current weather desc  : overcast clouds\n",
      "Current Humidity      : 74 %\n",
      "Current wind speed    : 0.86 kmph\n"
     ]
    }
   ],
   "source": [
    "import requests\n",
    "import os\n",
    "from datetime import datetime\n",
    "\n",
    "# user_api = os.environ['current_weather_data']\n",
    "location = input(\"Enter the city name: \")\n",
    "\n",
    "complete_api_link = \"https://api.openweathermap.org/data/2.5/weather?q=\"+location+\"&appid=fa6636414ce85401d753dabeb1632fd0\"\n",
    "api_link = requests.get(complete_api_link)\n",
    "api_data = api_link.json()\n",
    "#print(api_data)\n",
    "#create variables to store and display data\n",
    "if api_data['cod'] == '404':\n",
    "    print(\"Invalid city, Please check your city name!!!\")\n",
    "else:\n",
    "    temp_city = ((api_data['main']['temp']) - 273.15)\n",
    "    weather_desc = api_data['weather'][0]['description']\n",
    "    hmdt = api_data['main']['humidity']\n",
    "    wind_spd = api_data['wind']['speed']\n",
    "    date_time = datetime.now().strftime(\"%d %b %Y | %I:%M:%S %p\")\n",
    "\n",
    "    print (\"-------------------------------------------------------------\")\n",
    "    print (\"Weather Stats for - {}  || {}\".format(location.upper(), date_time))\n",
    "    print (\"-------------------------------------------------------------\")\n",
    "\n",
    "    print (\"Current temperature is: {:.2f} deg C\".format(temp_city))\n",
    "    print (\"Current weather desc  :\",weather_desc)\n",
    "    print (\"Current Humidity      :\",hmdt, '%')\n",
    "    print (\"Current wind speed    :\",wind_spd ,'kmph')"
   ]
  },
  {
   "cell_type": "code",
   "execution_count": null,
   "id": "d0cf6f8c",
   "metadata": {},
   "outputs": [],
   "source": []
  },
  {
   "cell_type": "code",
   "execution_count": null,
   "id": "6d4b5ba1",
   "metadata": {},
   "outputs": [],
   "source": []
  }
 ],
 "metadata": {
  "kernelspec": {
   "display_name": "Python 3 (ipykernel)",
   "language": "python",
   "name": "python3"
  },
  "language_info": {
   "codemirror_mode": {
    "name": "ipython",
    "version": 3
   },
   "file_extension": ".py",
   "mimetype": "text/x-python",
   "name": "python",
   "nbconvert_exporter": "python",
   "pygments_lexer": "ipython3",
   "version": "3.10.0"
  }
 },
 "nbformat": 4,
 "nbformat_minor": 5
}
